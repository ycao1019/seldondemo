{
 "cells": [
  {
   "cell_type": "code",
   "execution_count": 1,
   "id": "d19ad532",
   "metadata": {},
   "outputs": [],
   "source": [
    "import pandas as pd\n",
    "import numpy as np\n",
    "import joblib\n",
    "from sklearn.metrics import mean_squared_error"
   ]
  },
  {
   "cell_type": "code",
   "execution_count": 2,
   "id": "2342414b",
   "metadata": {},
   "outputs": [],
   "source": [
    "transformer = joblib.load('input_transformer.pkl')\n",
    "model = joblib.load('model.pkl')\n",
    "testdata = pd.read_csv('test_data.csv')"
   ]
  },
  {
   "cell_type": "code",
   "execution_count": 3,
   "id": "db33829f",
   "metadata": {},
   "outputs": [],
   "source": [
    "X = testdata.drop(columns=['target']).values"
   ]
  },
  {
   "cell_type": "code",
   "execution_count": 4,
   "id": "5f68d3c6",
   "metadata": {},
   "outputs": [],
   "source": [
    "y=testdata['target']"
   ]
  },
  {
   "cell_type": "code",
   "execution_count": 5,
   "id": "aa7d2923",
   "metadata": {},
   "outputs": [],
   "source": [
    "X_tran = transformer.transform(X)"
   ]
  },
  {
   "cell_type": "code",
   "execution_count": 6,
   "id": "2d7524b9",
   "metadata": {},
   "outputs": [],
   "source": [
    "y_test = model.predict(X_tran)"
   ]
  },
  {
   "cell_type": "code",
   "execution_count": 7,
   "id": "e8707b59",
   "metadata": {},
   "outputs": [
    {
     "data": {
      "text/plain": [
       "2.853062166443758"
      ]
     },
     "execution_count": 7,
     "metadata": {},
     "output_type": "execute_result"
    }
   ],
   "source": [
    "np.sqrt(mean_squared_error(y,y_test))"
   ]
  },
  {
   "cell_type": "code",
   "execution_count": null,
   "id": "c955dfa9",
   "metadata": {},
   "outputs": [],
   "source": []
  }
 ],
 "metadata": {
  "kernelspec": {
   "display_name": "seldon",
   "language": "python",
   "name": "seldon"
  },
  "language_info": {
   "codemirror_mode": {
    "name": "ipython",
    "version": 3
   },
   "file_extension": ".py",
   "mimetype": "text/x-python",
   "name": "python",
   "nbconvert_exporter": "python",
   "pygments_lexer": "ipython3",
   "version": "3.8.13"
  }
 },
 "nbformat": 4,
 "nbformat_minor": 5
}
